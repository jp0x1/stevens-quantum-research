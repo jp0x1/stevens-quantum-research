{
 "cells": [
  {
   "cell_type": "markdown",
   "metadata": {},
   "source": [
    "# Question 1\n",
    "Consider a simple harmonic oscillator with Hamiltonian $$ \\hat{H} = \\hbar\\omega_0 \\hat{a}^\\dagger\\hat{a}.$$ \n"
   ]
  },
  {
   "cell_type": "markdown",
   "metadata": {},
   "source": [
    "(a) Write down the Heisenberg equation for the annihilation operator $\\hat{a}$ and show that its solution is $$\\hat{a}(t) = {\\rm e}^{-{\\rm i}\\omega_0 t} \\hat{a}(0).$$"
   ]
  }
 ],
 "metadata": {
  "language_info": {
   "name": "python"
  },
  "orig_nbformat": 4
 },
 "nbformat": 4,
 "nbformat_minor": 2
}
