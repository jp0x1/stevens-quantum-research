{
 "cells": [
  {
   "cell_type": "markdown",
   "metadata": {},
   "source": [
    "# Question 2\n",
    "A thermal equilibrium state is a mixed state with two key properties:\n",
    "\n",
    "(i) it is stationary (unchanging) under Hamiltonian dynamics and\n",
    "(ii) the probability $p_i$ of finding the system with energy $E_i$ is given by the Boltzmann distribution of statistical mechanics, i.e. $p_i = {\\rm e}^{-\\beta E_i}/Z$, where $\\beta = 1/k_BT$ is the inverse temperature and $Z = \\sum_i {\\rm e}^{-\\beta E_i}$ is the partition function.\n",
    "\n",
    "In quantum mechanics, the thermal state of a system whose dynamics are governed by the Hamiltonian $\\hat{H}$ is given by\n",
    "\n",
    "$$\\hat{\\rho}_\\beta = \\frac{{\\rm e}^{-\\beta \\hat{H}}}{Z}, $$\n",
    "\n",
    "where $Z = {\\rm tr}[{\\rm e}^{-\\beta \\hat{H}}]$."
   ]
  },
  {
   "cell_type": "markdown",
   "metadata": {},
   "source": [
    "(c) Find analytical expressions for the expectation values of the three Pauli matrices in the above thermal equilibrium state. Plot the thermal expectation value of $\\langle \\hat{\\sigma}_z\\rangle$ as a function of dimensionless temperature, $k_B T/\\hbar\\omega$."
   ]
  }
 ],
 "metadata": {
  "kernelspec": {
   "display_name": "Python 3",
   "language": "python",
   "name": "python3"
  },
  "language_info": {
   "codemirror_mode": {
    "name": "ipython",
    "version": 3
   },
   "file_extension": ".py",
   "mimetype": "text/x-python",
   "name": "python",
   "nbconvert_exporter": "python",
   "pygments_lexer": "ipython3",
   "version": "3.10.12"
  },
  "orig_nbformat": 4
 },
 "nbformat": 4,
 "nbformat_minor": 2
}
