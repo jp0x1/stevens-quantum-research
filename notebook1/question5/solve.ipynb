{
 "cells": [
  {
   "cell_type": "markdown",
   "metadata": {},
   "source": [
    "A driven two-level system is described in the interaction picture by the Hamiltonian\n",
    "\n",
    "$$ \\hat{H}_I = \\frac{\\hbar \\Delta}{2}\\hat{\\sigma}_z + \\frac{\\hbar\\Omega}{2} \\left( \\sin\\varphi\\hat{\\sigma}_x - \\cos\\varphi \\hat{\\sigma}_y\\right),$$\n",
    "\n",
    "where $\\Delta$ is the detuning, $\\Omega$ is the Rabi frequency, and $\\varphi$ is the phase of the driving field. Write down this Hamiltonian as a matrix and derive analytical expressions for its eigenvalues and eigenvectors.\n",
    "\n",
    "Use these results to write down an expression for the state of the system in the interaction picture $|\\psi_I(t)\\rangle$, assuming that the initial state is $|\\psi(0)\\rangle = |\\downarrow\\rangle$.\n",
    "\n",
    "Derive the probability to find the system in the state $|\\uparrow\\rangle$ at time $t$. What is the probability to find the system in the state $|\\downarrow\\rangle$ at time $t$?"
   ]
  },
  {
   "cell_type": "markdown",
   "metadata": {},
   "source": [
    "#### Solution\n",
    "\n"
   ]
  }
 ],
 "metadata": {
  "language_info": {
   "name": "python"
  },
  "orig_nbformat": 4
 },
 "nbformat": 4,
 "nbformat_minor": 2
}
